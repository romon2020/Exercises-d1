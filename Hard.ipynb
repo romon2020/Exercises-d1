{
 "cells": [
  {
   "cell_type": "code",
   "execution_count": 6,
   "metadata": {},
   "outputs": [
    {
     "name": "stdout",
     "output_type": "stream",
     "text": [
      "{'a': 1, 'b': 1}\n"
     ]
    }
   ],
   "source": [
    "#\"Exercise 4.1 (🌶️🌶️): Define a function that receives a string parameter, and \n",
    "#returns an integer indicating the count for all the letters of the alphabet that \n",
    "#there are in the string. The expected output format is in a dictionary with the \n",
    "#relevant keys and values.\n",
    "#The capital version of a lower case letter is considered to be the same letter.\n",
    "#This should sound quite familiar, try to do it without looking at your old code ;)\n",
    "#What is the challenge?:\n",
    "#Don't code 27 times the same line of code, learn how to do things that scale well.\"\n",
    "\n",
    "def string_new(text):\n",
    "    d={}\n",
    "    s=text.lower()\n",
    "    for c in s:\n",
    "        if c!=' ':\n",
    "            d[c]=s.count(c)   \n",
    "    return d\n",
    "print(string_new(\"a b\"))"
   ]
  },
  {
   "cell_type": "code",
   "execution_count": 7,
   "metadata": {},
   "outputs": [
    {
     "name": "stdout",
     "output_type": "stream",
     "text": [
      "enter a number5\n",
      "2\n",
      "3\n"
     ]
    }
   ],
   "source": [
    "# 5.6 list all prime numbers below given number\n",
    "a=2\n",
    "number= int(input(\"enter a number\"))\n",
    "\n",
    "for number in range(a, number):\n",
    "    if(number>1):\n",
    "        for i in range(a, number):\n",
    "            if((number%i)==0):\n",
    "                break\n",
    "        else:\n",
    "            print(number)"
   ]
  },
  {
   "cell_type": "code",
   "execution_count": null,
   "metadata": {},
   "outputs": [],
   "source": [
    "#Ex 5.7\n",
    "\"\"\"\n",
    "Write a function that prints all integers between the parameters a and b that can be written as the sum of two squares.\n",
    "Produce output in the form of z = x**2 + y**2, e.g., 58 = 3**2 + 7**2. \n",
    "If a number occurs on the list with multiple different ways of writing it as the sum of two squares,\n",
    "that is acceptable\n",
    "\"\"\"\n",
    "\n",
    "z=int(input(\"Enter a number: \"))\n",
    "for X in range(0,9):\n",
    "    for Y in range(0,9):\n",
    "        if((X**2)+(Y**2)==z):\n",
    "            print(str(z) +\"=\" +str(X)+\"**2\"+\"+\" + str(Y)+\"**2\") \n",
    "            \n",
    "            "
   ]
  }
 ],
 "metadata": {
  "kernelspec": {
   "display_name": "Python 3",
   "language": "python",
   "name": "python3"
  },
  "language_info": {
   "codemirror_mode": {
    "name": "ipython",
    "version": 3
   },
   "file_extension": ".py",
   "mimetype": "text/x-python",
   "name": "python",
   "nbconvert_exporter": "python",
   "pygments_lexer": "ipython3",
   "version": "3.8.5"
  }
 },
 "nbformat": 4,
 "nbformat_minor": 4
}
