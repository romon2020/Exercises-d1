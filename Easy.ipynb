{
 "cells": [
  {
   "cell_type": "code",
   "execution_count": null,
   "metadata": {},
   "outputs": [],
   "source": [
    "#Exercise 1.1\n",
    "\n",
    "book_price = 24.95\n",
    "discount = .40\n",
    "price_after_discount= book_price*(1-discount)\n",
    "print(price_after_discount)\n",
    "total_copies = 60\n",
    "shipping_cost = 3 + (0.75*59)\n",
    "total_wholesale_cost = (price_after_discount*total_copies) + shipping_cost\n",
    "print(total_wholesale_cost)\n"
   ]
  },
  {
   "cell_type": "code",
   "execution_count": null,
   "metadata": {},
   "outputs": [],
   "source": [
    "#Ex 1.2\n",
    "x=1/0\n",
    "print(x)"
   ]
  },
  {
   "cell_type": "code",
   "execution_count": 1,
   "metadata": {},
   "outputs": [
    {
     "name": "stdout",
     "output_type": "stream",
     "text": [
      "15\n",
      "14\n",
      "13\n",
      "12\n",
      "11\n",
      "10\n",
      "9\n",
      "8\n",
      "7\n",
      "6\n",
      "5\n",
      "4\n",
      "3\n",
      "2\n",
      "1\n",
      "Blast off\n"
     ]
    }
   ],
   "source": [
    "#5.1 countdown function\n",
    "\n",
    "def countdown(input_no):\n",
    "    for input_no in range(input_no, 0, -1):\n",
    "        print(input_no)\n",
    "    print(\"Blast off\")\n",
    "       \n",
    "       \n",
    "countdown(15)"
   ]
  },
  {
   "cell_type": "code",
   "execution_count": null,
   "metadata": {},
   "outputs": [],
   "source": [
    "#Ex 5.2\n",
    "\n",
    "list= [9,10,52,63,17,30,40]\n",
    "def largest_value():\n",
    "    largest_val = list[0]\n",
    "    for i in range(0, len(list)):\n",
    "        if largest_val<list[i]:\n",
    "            largest_val=list[i]\n",
    "    return largest_val\n",
    "\n",
    "print(largest_value())\n",
    "\n",
    "\n",
    "def smallest_value():\n",
    "    smallest_val=list[0]\n",
    "    for i in range(0, len(list)):\n",
    "        if smallest_val>list[i]:\n",
    "            smallest_val=list[i]\n",
    "    return smallest_val\n",
    "\n",
    "print(smallest_value())\n",
    "\n",
    "def divisible_by_3():\n",
    "    counter=0\n",
    "    for i in range(0, len(list)):\n",
    "        if(list[i]%3)==0:\n",
    "            counter+=1\n",
    "    return counter\n",
    "print(divisible_by_3())"
   ]
  }
 ],
 "metadata": {
  "kernelspec": {
   "display_name": "Python 3",
   "language": "python",
   "name": "python3"
  },
  "language_info": {
   "codemirror_mode": {
    "name": "ipython",
    "version": 3
   },
   "file_extension": ".py",
   "mimetype": "text/x-python",
   "name": "python",
   "nbconvert_exporter": "python",
   "pygments_lexer": "ipython3",
   "version": "3.8.5"
  }
 },
 "nbformat": 4,
 "nbformat_minor": 4
}
