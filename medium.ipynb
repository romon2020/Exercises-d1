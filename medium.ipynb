{
 "cells": [
  {
   "cell_type": "code",
   "execution_count": null,
   "metadata": {},
   "outputs": [],
   "source": [
    "#Exercise 1.3\n",
    "\n",
    "#\n",
    "#Exercise 1.3 (🌶️): You look at the clock and see that it is currently 14.00h.\n",
    "#You set an alarm to go off 535 hours later. At what time will the alarm go off?\n",
    "#Write a program that prints the answer.\n",
    "#Hint: for the best solution, you will need the modulo operator.\n",
    "#Second hint: The answer is 21.00h, but of course,\n",
    "#this exercise is not about the answer, but about how you get it.\n",
    "\n",
    "time=14.0\n",
    "alarm=(time + (535%24))\n",
    "print(alarm)"
   ]
  },
  {
   "cell_type": "code",
   "execution_count": null,
   "metadata": {},
   "outputs": [],
   "source": [
    "#Ex 5.4\n",
    "\n",
    "def newfn(i):\n",
    "    for k in range (i, 0, -1):\n",
    "        print(str(k)+ \"bottles of beer on the wall,\"+ str(k)+\" bottles of beer. Take one down, pass it around,\" + str(k-1) + \"bottles of beer in the wall\")\n",
    "newfn(6)"
   ]
  },
  {
   "cell_type": "code",
   "execution_count": null,
   "metadata": {},
   "outputs": [],
   "source": [
    "#5.5 fibonacci series\n",
    "number=int(input(\"input a no:\"))\n",
    "a=0\n",
    "b=1\n",
    "c=0\n",
    "while (c<=number):\n",
    "    print(c)\n",
    "    a=b\n",
    "    b=c\n",
    "    c=a+b"
   ]
  },
  {
   "cell_type": "code",
   "execution_count": 1,
   "metadata": {},
   "outputs": [
    {
     "name": "stdout",
     "output_type": "stream",
     "text": [
      "2178\n"
     ]
    }
   ],
   "source": [
    "#Ex 5.8\n",
    "\n",
    "for A in range(1,10):\n",
    "    for B in range(0,10):\n",
    "        for C in range(0,10):\n",
    "            for D in range(1,10):\n",
    "                if 4*((1000*A)+(100*B)+(10*C)+D)==((1000*D)+(100*C)+(10*B)+A):\n",
    "                    print(str(A)+str(B)+str(C)+str(D))"
   ]
  },
  {
   "cell_type": "code",
   "execution_count": null,
   "metadata": {},
   "outputs": [],
   "source": []
  }
 ],
 "metadata": {
  "kernelspec": {
   "display_name": "Python 3",
   "language": "python",
   "name": "python3"
  },
  "language_info": {
   "codemirror_mode": {
    "name": "ipython",
    "version": 3
   },
   "file_extension": ".py",
   "mimetype": "text/x-python",
   "name": "python",
   "nbconvert_exporter": "python",
   "pygments_lexer": "ipython3",
   "version": "3.8.5"
  }
 },
 "nbformat": 4,
 "nbformat_minor": 4
}
